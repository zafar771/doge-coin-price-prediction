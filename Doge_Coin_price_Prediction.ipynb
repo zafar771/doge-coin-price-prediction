{
  "nbformat": 4,
  "nbformat_minor": 0,
  "metadata": {
    "colab": {
      "provenance": []
    },
    "kernelspec": {
      "name": "python3",
      "display_name": "Python 3"
    },
    "language_info": {
      "name": "python"
    }
  },
  "cells": [
    {
      "cell_type": "markdown",
      "source": [
        "Import the librarires"
      ],
      "metadata": {
        "id": "7larKuWGz2Qn"
      }
    },
    {
      "cell_type": "code",
      "execution_count": 17,
      "metadata": {
        "id": "rhK0Z5_3x4Gk"
      },
      "outputs": [],
      "source": [
        "import pandas as pd\n",
        "import numpy as np\n",
        "from sklearn.preprocessing import MinMaxScaler\n",
        "from keras.models import Sequential\n",
        "from keras.layers import LSTM, Dense\n"
      ]
    },
    {
      "cell_type": "markdown",
      "source": [
        "Load the Data"
      ],
      "metadata": {
        "id": "MJTkFoAo0Ewg"
      }
    },
    {
      "cell_type": "code",
      "source": [
        "df = pd.read_csv('/content/drive/MyDrive/DOGE-USD.csv')\n",
        "df.head()"
      ],
      "metadata": {
        "colab": {
          "base_uri": "https://localhost:8080/",
          "height": 206
        },
        "id": "4KTnRuj22AFc",
        "outputId": "ce159a55-bfe1-488a-c9b9-608054db8716"
      },
      "execution_count": 18,
      "outputs": [
        {
          "output_type": "execute_result",
          "data": {
            "text/plain": [
              "         Date      Open      High       Low     Close  Adj Close     Volume\n",
              "0  2017-11-09  0.001207  0.001415  0.001181  0.001415   0.001415  6259550.0\n",
              "1  2017-11-10  0.001421  0.001431  0.001125  0.001163   0.001163  4246520.0\n",
              "2  2017-11-11  0.001146  0.001257  0.001141  0.001201   0.001201  2231080.0\n",
              "3  2017-11-12  0.001189  0.001210  0.001002  0.001038   0.001038  3288960.0\n",
              "4  2017-11-13  0.001046  0.001212  0.001019  0.001211   0.001211  2481270.0"
            ],
            "text/html": [
              "\n",
              "  <div id=\"df-70c64e1d-13c6-4dcb-8c80-cee7efde3f63\" class=\"colab-df-container\">\n",
              "    <div>\n",
              "<style scoped>\n",
              "    .dataframe tbody tr th:only-of-type {\n",
              "        vertical-align: middle;\n",
              "    }\n",
              "\n",
              "    .dataframe tbody tr th {\n",
              "        vertical-align: top;\n",
              "    }\n",
              "\n",
              "    .dataframe thead th {\n",
              "        text-align: right;\n",
              "    }\n",
              "</style>\n",
              "<table border=\"1\" class=\"dataframe\">\n",
              "  <thead>\n",
              "    <tr style=\"text-align: right;\">\n",
              "      <th></th>\n",
              "      <th>Date</th>\n",
              "      <th>Open</th>\n",
              "      <th>High</th>\n",
              "      <th>Low</th>\n",
              "      <th>Close</th>\n",
              "      <th>Adj Close</th>\n",
              "      <th>Volume</th>\n",
              "    </tr>\n",
              "  </thead>\n",
              "  <tbody>\n",
              "    <tr>\n",
              "      <th>0</th>\n",
              "      <td>2017-11-09</td>\n",
              "      <td>0.001207</td>\n",
              "      <td>0.001415</td>\n",
              "      <td>0.001181</td>\n",
              "      <td>0.001415</td>\n",
              "      <td>0.001415</td>\n",
              "      <td>6259550.0</td>\n",
              "    </tr>\n",
              "    <tr>\n",
              "      <th>1</th>\n",
              "      <td>2017-11-10</td>\n",
              "      <td>0.001421</td>\n",
              "      <td>0.001431</td>\n",
              "      <td>0.001125</td>\n",
              "      <td>0.001163</td>\n",
              "      <td>0.001163</td>\n",
              "      <td>4246520.0</td>\n",
              "    </tr>\n",
              "    <tr>\n",
              "      <th>2</th>\n",
              "      <td>2017-11-11</td>\n",
              "      <td>0.001146</td>\n",
              "      <td>0.001257</td>\n",
              "      <td>0.001141</td>\n",
              "      <td>0.001201</td>\n",
              "      <td>0.001201</td>\n",
              "      <td>2231080.0</td>\n",
              "    </tr>\n",
              "    <tr>\n",
              "      <th>3</th>\n",
              "      <td>2017-11-12</td>\n",
              "      <td>0.001189</td>\n",
              "      <td>0.001210</td>\n",
              "      <td>0.001002</td>\n",
              "      <td>0.001038</td>\n",
              "      <td>0.001038</td>\n",
              "      <td>3288960.0</td>\n",
              "    </tr>\n",
              "    <tr>\n",
              "      <th>4</th>\n",
              "      <td>2017-11-13</td>\n",
              "      <td>0.001046</td>\n",
              "      <td>0.001212</td>\n",
              "      <td>0.001019</td>\n",
              "      <td>0.001211</td>\n",
              "      <td>0.001211</td>\n",
              "      <td>2481270.0</td>\n",
              "    </tr>\n",
              "  </tbody>\n",
              "</table>\n",
              "</div>\n",
              "    <div class=\"colab-df-buttons\">\n",
              "\n",
              "  <div class=\"colab-df-container\">\n",
              "    <button class=\"colab-df-convert\" onclick=\"convertToInteractive('df-70c64e1d-13c6-4dcb-8c80-cee7efde3f63')\"\n",
              "            title=\"Convert this dataframe to an interactive table.\"\n",
              "            style=\"display:none;\">\n",
              "\n",
              "  <svg xmlns=\"http://www.w3.org/2000/svg\" height=\"24px\" viewBox=\"0 -960 960 960\">\n",
              "    <path d=\"M120-120v-720h720v720H120Zm60-500h600v-160H180v160Zm220 220h160v-160H400v160Zm0 220h160v-160H400v160ZM180-400h160v-160H180v160Zm440 0h160v-160H620v160ZM180-180h160v-160H180v160Zm440 0h160v-160H620v160Z\"/>\n",
              "  </svg>\n",
              "    </button>\n",
              "\n",
              "  <style>\n",
              "    .colab-df-container {\n",
              "      display:flex;\n",
              "      gap: 12px;\n",
              "    }\n",
              "\n",
              "    .colab-df-convert {\n",
              "      background-color: #E8F0FE;\n",
              "      border: none;\n",
              "      border-radius: 50%;\n",
              "      cursor: pointer;\n",
              "      display: none;\n",
              "      fill: #1967D2;\n",
              "      height: 32px;\n",
              "      padding: 0 0 0 0;\n",
              "      width: 32px;\n",
              "    }\n",
              "\n",
              "    .colab-df-convert:hover {\n",
              "      background-color: #E2EBFA;\n",
              "      box-shadow: 0px 1px 2px rgba(60, 64, 67, 0.3), 0px 1px 3px 1px rgba(60, 64, 67, 0.15);\n",
              "      fill: #174EA6;\n",
              "    }\n",
              "\n",
              "    .colab-df-buttons div {\n",
              "      margin-bottom: 4px;\n",
              "    }\n",
              "\n",
              "    [theme=dark] .colab-df-convert {\n",
              "      background-color: #3B4455;\n",
              "      fill: #D2E3FC;\n",
              "    }\n",
              "\n",
              "    [theme=dark] .colab-df-convert:hover {\n",
              "      background-color: #434B5C;\n",
              "      box-shadow: 0px 1px 3px 1px rgba(0, 0, 0, 0.15);\n",
              "      filter: drop-shadow(0px 1px 2px rgba(0, 0, 0, 0.3));\n",
              "      fill: #FFFFFF;\n",
              "    }\n",
              "  </style>\n",
              "\n",
              "    <script>\n",
              "      const buttonEl =\n",
              "        document.querySelector('#df-70c64e1d-13c6-4dcb-8c80-cee7efde3f63 button.colab-df-convert');\n",
              "      buttonEl.style.display =\n",
              "        google.colab.kernel.accessAllowed ? 'block' : 'none';\n",
              "\n",
              "      async function convertToInteractive(key) {\n",
              "        const element = document.querySelector('#df-70c64e1d-13c6-4dcb-8c80-cee7efde3f63');\n",
              "        const dataTable =\n",
              "          await google.colab.kernel.invokeFunction('convertToInteractive',\n",
              "                                                    [key], {});\n",
              "        if (!dataTable) return;\n",
              "\n",
              "        const docLinkHtml = 'Like what you see? Visit the ' +\n",
              "          '<a target=\"_blank\" href=https://colab.research.google.com/notebooks/data_table.ipynb>data table notebook</a>'\n",
              "          + ' to learn more about interactive tables.';\n",
              "        element.innerHTML = '';\n",
              "        dataTable['output_type'] = 'display_data';\n",
              "        await google.colab.output.renderOutput(dataTable, element);\n",
              "        const docLink = document.createElement('div');\n",
              "        docLink.innerHTML = docLinkHtml;\n",
              "        element.appendChild(docLink);\n",
              "      }\n",
              "    </script>\n",
              "  </div>\n",
              "\n",
              "\n",
              "<div id=\"df-dfaa3f32-7302-4414-ba10-d47f4797932e\">\n",
              "  <button class=\"colab-df-quickchart\" onclick=\"quickchart('df-dfaa3f32-7302-4414-ba10-d47f4797932e')\"\n",
              "            title=\"Suggest charts\"\n",
              "            style=\"display:none;\">\n",
              "\n",
              "<svg xmlns=\"http://www.w3.org/2000/svg\" height=\"24px\"viewBox=\"0 0 24 24\"\n",
              "     width=\"24px\">\n",
              "    <g>\n",
              "        <path d=\"M19 3H5c-1.1 0-2 .9-2 2v14c0 1.1.9 2 2 2h14c1.1 0 2-.9 2-2V5c0-1.1-.9-2-2-2zM9 17H7v-7h2v7zm4 0h-2V7h2v10zm4 0h-2v-4h2v4z\"/>\n",
              "    </g>\n",
              "</svg>\n",
              "  </button>\n",
              "\n",
              "<style>\n",
              "  .colab-df-quickchart {\n",
              "      --bg-color: #E8F0FE;\n",
              "      --fill-color: #1967D2;\n",
              "      --hover-bg-color: #E2EBFA;\n",
              "      --hover-fill-color: #174EA6;\n",
              "      --disabled-fill-color: #AAA;\n",
              "      --disabled-bg-color: #DDD;\n",
              "  }\n",
              "\n",
              "  [theme=dark] .colab-df-quickchart {\n",
              "      --bg-color: #3B4455;\n",
              "      --fill-color: #D2E3FC;\n",
              "      --hover-bg-color: #434B5C;\n",
              "      --hover-fill-color: #FFFFFF;\n",
              "      --disabled-bg-color: #3B4455;\n",
              "      --disabled-fill-color: #666;\n",
              "  }\n",
              "\n",
              "  .colab-df-quickchart {\n",
              "    background-color: var(--bg-color);\n",
              "    border: none;\n",
              "    border-radius: 50%;\n",
              "    cursor: pointer;\n",
              "    display: none;\n",
              "    fill: var(--fill-color);\n",
              "    height: 32px;\n",
              "    padding: 0;\n",
              "    width: 32px;\n",
              "  }\n",
              "\n",
              "  .colab-df-quickchart:hover {\n",
              "    background-color: var(--hover-bg-color);\n",
              "    box-shadow: 0 1px 2px rgba(60, 64, 67, 0.3), 0 1px 3px 1px rgba(60, 64, 67, 0.15);\n",
              "    fill: var(--button-hover-fill-color);\n",
              "  }\n",
              "\n",
              "  .colab-df-quickchart-complete:disabled,\n",
              "  .colab-df-quickchart-complete:disabled:hover {\n",
              "    background-color: var(--disabled-bg-color);\n",
              "    fill: var(--disabled-fill-color);\n",
              "    box-shadow: none;\n",
              "  }\n",
              "\n",
              "  .colab-df-spinner {\n",
              "    border: 2px solid var(--fill-color);\n",
              "    border-color: transparent;\n",
              "    border-bottom-color: var(--fill-color);\n",
              "    animation:\n",
              "      spin 1s steps(1) infinite;\n",
              "  }\n",
              "\n",
              "  @keyframes spin {\n",
              "    0% {\n",
              "      border-color: transparent;\n",
              "      border-bottom-color: var(--fill-color);\n",
              "      border-left-color: var(--fill-color);\n",
              "    }\n",
              "    20% {\n",
              "      border-color: transparent;\n",
              "      border-left-color: var(--fill-color);\n",
              "      border-top-color: var(--fill-color);\n",
              "    }\n",
              "    30% {\n",
              "      border-color: transparent;\n",
              "      border-left-color: var(--fill-color);\n",
              "      border-top-color: var(--fill-color);\n",
              "      border-right-color: var(--fill-color);\n",
              "    }\n",
              "    40% {\n",
              "      border-color: transparent;\n",
              "      border-right-color: var(--fill-color);\n",
              "      border-top-color: var(--fill-color);\n",
              "    }\n",
              "    60% {\n",
              "      border-color: transparent;\n",
              "      border-right-color: var(--fill-color);\n",
              "    }\n",
              "    80% {\n",
              "      border-color: transparent;\n",
              "      border-right-color: var(--fill-color);\n",
              "      border-bottom-color: var(--fill-color);\n",
              "    }\n",
              "    90% {\n",
              "      border-color: transparent;\n",
              "      border-bottom-color: var(--fill-color);\n",
              "    }\n",
              "  }\n",
              "</style>\n",
              "\n",
              "  <script>\n",
              "    async function quickchart(key) {\n",
              "      const quickchartButtonEl =\n",
              "        document.querySelector('#' + key + ' button');\n",
              "      quickchartButtonEl.disabled = true;  // To prevent multiple clicks.\n",
              "      quickchartButtonEl.classList.add('colab-df-spinner');\n",
              "      try {\n",
              "        const charts = await google.colab.kernel.invokeFunction(\n",
              "            'suggestCharts', [key], {});\n",
              "      } catch (error) {\n",
              "        console.error('Error during call to suggestCharts:', error);\n",
              "      }\n",
              "      quickchartButtonEl.classList.remove('colab-df-spinner');\n",
              "      quickchartButtonEl.classList.add('colab-df-quickchart-complete');\n",
              "    }\n",
              "    (() => {\n",
              "      let quickchartButtonEl =\n",
              "        document.querySelector('#df-dfaa3f32-7302-4414-ba10-d47f4797932e button');\n",
              "      quickchartButtonEl.style.display =\n",
              "        google.colab.kernel.accessAllowed ? 'block' : 'none';\n",
              "    })();\n",
              "  </script>\n",
              "</div>\n",
              "\n",
              "    </div>\n",
              "  </div>\n"
            ],
            "application/vnd.google.colaboratory.intrinsic+json": {
              "type": "dataframe",
              "variable_name": "df",
              "summary": "{\n  \"name\": \"df\",\n  \"rows\": 1761,\n  \"fields\": [\n    {\n      \"column\": \"Date\",\n      \"properties\": {\n        \"dtype\": \"object\",\n        \"num_unique_values\": 1761,\n        \"samples\": [\n          \"2020-07-02\",\n          \"2022-01-11\",\n          \"2022-03-08\"\n        ],\n        \"semantic_type\": \"\",\n        \"description\": \"\"\n      }\n    },\n    {\n      \"column\": \"Open\",\n      \"properties\": {\n        \"dtype\": \"number\",\n        \"std\": 0.1013253618925643,\n        \"min\": 0.001046,\n        \"max\": 0.687801,\n        \"num_unique_values\": 1534,\n        \"samples\": [\n          0.11649,\n          0.007702,\n          0.005867\n        ],\n        \"semantic_type\": \"\",\n        \"description\": \"\"\n      }\n    },\n    {\n      \"column\": \"High\",\n      \"properties\": {\n        \"dtype\": \"number\",\n        \"std\": 0.10915168814418758,\n        \"min\": 0.00121,\n        \"max\": 0.737567,\n        \"num_unique_values\": 1537,\n        \"samples\": [\n          0.329356,\n          0.007763,\n          0.00591\n        ],\n        \"semantic_type\": \"\",\n        \"description\": \"\"\n      }\n    },\n    {\n      \"column\": \"Low\",\n      \"properties\": {\n        \"dtype\": \"number\",\n        \"std\": 0.09369549203918358,\n        \"min\": 0.001002,\n        \"max\": 0.608168,\n        \"num_unique_values\": 1526,\n        \"samples\": [\n          0.079082,\n          0.006473,\n          0.056435\n        ],\n        \"semantic_type\": \"\",\n        \"description\": \"\"\n      }\n    },\n    {\n      \"column\": \"Close\",\n      \"properties\": {\n        \"dtype\": \"number\",\n        \"std\": 0.10137868294094772,\n        \"min\": 0.001038,\n        \"max\": 0.684777,\n        \"num_unique_values\": 1543,\n        \"samples\": [\n          0.06428,\n          0.286808,\n          0.221383\n        ],\n        \"semantic_type\": \"\",\n        \"description\": \"\"\n      }\n    },\n    {\n      \"column\": \"Adj Close\",\n      \"properties\": {\n        \"dtype\": \"number\",\n        \"std\": 0.10137868294094772,\n        \"min\": 0.001038,\n        \"max\": 0.684777,\n        \"num_unique_values\": 1543,\n        \"samples\": [\n          0.06428,\n          0.286808,\n          0.221383\n        ],\n        \"semantic_type\": \"\",\n        \"description\": \"\"\n      }\n    },\n    {\n      \"column\": \"Volume\",\n      \"properties\": {\n        \"dtype\": \"number\",\n        \"std\": 3563999366.5691385,\n        \"min\": 1431720.0,\n        \"max\": 69410680685.0,\n        \"num_unique_values\": 1760,\n        \"samples\": [\n          52702701.0,\n          53434717.0,\n          1166163984.0\n        ],\n        \"semantic_type\": \"\",\n        \"description\": \"\"\n      }\n    }\n  ]\n}"
            }
          },
          "metadata": {},
          "execution_count": 18
        }
      ]
    },
    {
      "cell_type": "markdown",
      "source": [
        "Convert The Date Column to Datetime and set it as index\n",
        "*italicised text*\n",
        "\n"
      ],
      "metadata": {
        "id": "OCXeX_IG2yg0"
      }
    },
    {
      "cell_type": "code",
      "source": [
        "df['Date'] = pd.to_datetime(df['Date'])\n",
        "df.set_index('Date', inplace=True)"
      ],
      "metadata": {
        "id": "2PYHe4eo2_38"
      },
      "execution_count": 19,
      "outputs": []
    },
    {
      "cell_type": "markdown",
      "source": [
        "Resample the data to daily frequency"
      ],
      "metadata": {
        "id": "Ivd__HRC3RGO"
      }
    },
    {
      "cell_type": "code",
      "source": [
        "df = df.resample('D').mean()"
      ],
      "metadata": {
        "id": "r5KBVxwo3WBp"
      },
      "execution_count": 20,
      "outputs": []
    },
    {
      "cell_type": "markdown",
      "source": [
        "Create a new column with the closing price"
      ],
      "metadata": {
        "id": "L3zYjylO3eKs"
      }
    },
    {
      "cell_type": "code",
      "source": [
        "df['Close'] = df['Close'].astype(float)"
      ],
      "metadata": {
        "id": "KIAT6I343nAT"
      },
      "execution_count": 21,
      "outputs": []
    },
    {
      "cell_type": "markdown",
      "source": [
        "Scale the data using min-max scaler\n",
        "\n"
      ],
      "metadata": {
        "id": "cyufBzJc4Kao"
      }
    },
    {
      "cell_type": "code",
      "source": [
        "scaler = MinMaxScaler(feature_range=(0, 1))\n",
        "df['Close'] = scaler.fit_transform(df['Close'].values.reshape(-1, 1))"
      ],
      "metadata": {
        "id": "MimOQAdy4ZZ6"
      },
      "execution_count": 22,
      "outputs": []
    },
    {
      "cell_type": "markdown",
      "source": [
        "Split the Data into Training and testing sets"
      ],
      "metadata": {
        "id": "upIAXQLW5btV"
      }
    },
    {
      "cell_type": "code",
      "source": [
        "train_size = int(0.8 * len(df))\n",
        "train_data, test_data = df[0:train_size], df[train_size:len(df)]"
      ],
      "metadata": {
        "id": "_nS4rptVdLhf"
      },
      "execution_count": 23,
      "outputs": []
    },
    {
      "cell_type": "markdown",
      "source": [
        "Create The LSTM Model"
      ],
      "metadata": {
        "id": "ZEWOBerkdoH7"
      }
    },
    {
      "cell_type": "code",
      "source": [
        "model = Sequential()\n",
        "model.add(LSTM(units=50, return_sequences=True, input_shape=(None, 1)))\n",
        "model.add(LSTM(units=50))\n",
        "model.add(Dense(1))\n",
        "model.compile(loss='mean_squared_error', optimizer='adam')"
      ],
      "metadata": {
        "id": "AXDSSxf7dvog"
      },
      "execution_count": 24,
      "outputs": []
    },
    {
      "cell_type": "markdown",
      "source": [
        "Reshape The Data For LSTM Model"
      ],
      "metadata": {
        "id": "uJlOuYd4d3nL"
      }
    },
    {
      "cell_type": "code",
      "source": [
        "train_data_reshaped = train_data.values.reshape(-1, 1, 1)\n",
        "test_data_reshaped = test_data.values.reshape(-1, 1, 1)"
      ],
      "metadata": {
        "id": "494mvpQVd_qE"
      },
      "execution_count": 25,
      "outputs": []
    },
    {
      "cell_type": "markdown",
      "source": [
        "Train The Model"
      ],
      "metadata": {
        "id": "Wfy6wAvueNEy"
      }
    },
    {
      "cell_type": "code",
      "source": [
        "model.fit(train_data_reshaped, train_data_reshaped, epochs=50, batch_size=32, verbose=2)"
      ],
      "metadata": {
        "colab": {
          "base_uri": "https://localhost:8080/"
        },
        "id": "qEp29-YmeR7f",
        "outputId": "49f37ff1-b687-4fc4-9cf9-09091702dbae"
      },
      "execution_count": 27,
      "outputs": [
        {
          "output_type": "stream",
          "name": "stdout",
          "text": [
            "Epoch 1/50\n",
            "264/264 - 4s - loss: 2715419062019555328.0000 - 4s/epoch - 16ms/step\n",
            "Epoch 2/50\n",
            "264/264 - 1s - loss: 2715418512263741440.0000 - 783ms/epoch - 3ms/step\n",
            "Epoch 3/50\n",
            "264/264 - 1s - loss: 2715419886653276160.0000 - 758ms/epoch - 3ms/step\n",
            "Epoch 4/50\n",
            "264/264 - 1s - loss: 2715418787141648384.0000 - 776ms/epoch - 3ms/step\n",
            "Epoch 5/50\n",
            "264/264 - 1s - loss: 2715418787141648384.0000 - 771ms/epoch - 3ms/step\n",
            "Epoch 6/50\n",
            "264/264 - 1s - loss: 2715418237385834496.0000 - 773ms/epoch - 3ms/step\n",
            "Epoch 7/50\n",
            "264/264 - 1s - loss: 2715419062019555328.0000 - 791ms/epoch - 3ms/step\n",
            "Epoch 8/50\n",
            "264/264 - 1s - loss: 2715419062019555328.0000 - 786ms/epoch - 3ms/step\n",
            "Epoch 9/50\n",
            "264/264 - 1s - loss: 2715419886653276160.0000 - 1s/epoch - 4ms/step\n",
            "Epoch 10/50\n",
            "264/264 - 1s - loss: 2715418512263741440.0000 - 1s/epoch - 5ms/step\n",
            "Epoch 11/50\n",
            "264/264 - 1s - loss: 2715417687630020608.0000 - 1s/epoch - 4ms/step\n",
            "Epoch 12/50\n",
            "264/264 - 1s - loss: 2715419886653276160.0000 - 1s/epoch - 5ms/step\n",
            "Epoch 13/50\n",
            "264/264 - 1s - loss: 2715419611775369216.0000 - 1s/epoch - 4ms/step\n",
            "Epoch 14/50\n",
            "264/264 - 1s - loss: 2715419886653276160.0000 - 765ms/epoch - 3ms/step\n",
            "Epoch 15/50\n",
            "264/264 - 1s - loss: 2715419336897462272.0000 - 776ms/epoch - 3ms/step\n",
            "Epoch 16/50\n",
            "264/264 - 1s - loss: 2715418512263741440.0000 - 772ms/epoch - 3ms/step\n",
            "Epoch 17/50\n",
            "264/264 - 1s - loss: 2715419062019555328.0000 - 766ms/epoch - 3ms/step\n",
            "Epoch 18/50\n",
            "264/264 - 1s - loss: 2715418787141648384.0000 - 793ms/epoch - 3ms/step\n",
            "Epoch 19/50\n",
            "264/264 - 1s - loss: 2715418237385834496.0000 - 793ms/epoch - 3ms/step\n",
            "Epoch 20/50\n",
            "264/264 - 1s - loss: 2715418512263741440.0000 - 842ms/epoch - 3ms/step\n",
            "Epoch 21/50\n",
            "264/264 - 1s - loss: 2715419611775369216.0000 - 805ms/epoch - 3ms/step\n",
            "Epoch 22/50\n",
            "264/264 - 1s - loss: 2715417962507927552.0000 - 841ms/epoch - 3ms/step\n",
            "Epoch 23/50\n",
            "264/264 - 1s - loss: 2715418237385834496.0000 - 810ms/epoch - 3ms/step\n",
            "Epoch 24/50\n",
            "264/264 - 1s - loss: 2715419336897462272.0000 - 762ms/epoch - 3ms/step\n",
            "Epoch 25/50\n",
            "264/264 - 1s - loss: 2715418787141648384.0000 - 838ms/epoch - 3ms/step\n",
            "Epoch 26/50\n",
            "264/264 - 1s - loss: 2715419062019555328.0000 - 1s/epoch - 5ms/step\n",
            "Epoch 27/50\n",
            "264/264 - 1s - loss: 2715419336897462272.0000 - 1s/epoch - 5ms/step\n",
            "Epoch 28/50\n",
            "264/264 - 1s - loss: 2715418237385834496.0000 - 1s/epoch - 5ms/step\n",
            "Epoch 29/50\n",
            "264/264 - 1s - loss: 2715418787141648384.0000 - 1s/epoch - 4ms/step\n",
            "Epoch 30/50\n",
            "264/264 - 1s - loss: 2715418237385834496.0000 - 806ms/epoch - 3ms/step\n",
            "Epoch 31/50\n",
            "264/264 - 1s - loss: 2715418237385834496.0000 - 797ms/epoch - 3ms/step\n",
            "Epoch 32/50\n",
            "264/264 - 1s - loss: 2715419611775369216.0000 - 827ms/epoch - 3ms/step\n",
            "Epoch 33/50\n",
            "264/264 - 1s - loss: 2715417962507927552.0000 - 787ms/epoch - 3ms/step\n",
            "Epoch 34/50\n",
            "264/264 - 1s - loss: 2715418787141648384.0000 - 798ms/epoch - 3ms/step\n",
            "Epoch 35/50\n",
            "264/264 - 1s - loss: 2715419611775369216.0000 - 767ms/epoch - 3ms/step\n",
            "Epoch 36/50\n",
            "264/264 - 1s - loss: 2715419336897462272.0000 - 755ms/epoch - 3ms/step\n",
            "Epoch 37/50\n",
            "264/264 - 1s - loss: 2715419886653276160.0000 - 765ms/epoch - 3ms/step\n",
            "Epoch 38/50\n",
            "264/264 - 1s - loss: 2715419062019555328.0000 - 778ms/epoch - 3ms/step\n",
            "Epoch 39/50\n",
            "264/264 - 1s - loss: 2715419611775369216.0000 - 828ms/epoch - 3ms/step\n",
            "Epoch 40/50\n",
            "264/264 - 1s - loss: 2715418237385834496.0000 - 836ms/epoch - 3ms/step\n",
            "Epoch 41/50\n",
            "264/264 - 1s - loss: 2715419336897462272.0000 - 787ms/epoch - 3ms/step\n",
            "Epoch 42/50\n",
            "264/264 - 1s - loss: 2715418512263741440.0000 - 1s/epoch - 4ms/step\n",
            "Epoch 43/50\n",
            "264/264 - 1s - loss: 2715417687630020608.0000 - 1s/epoch - 5ms/step\n",
            "Epoch 44/50\n",
            "264/264 - 1s - loss: 2715419611775369216.0000 - 1s/epoch - 5ms/step\n",
            "Epoch 45/50\n",
            "264/264 - 1s - loss: 2715417137874206720.0000 - 1s/epoch - 5ms/step\n",
            "Epoch 46/50\n",
            "264/264 - 1s - loss: 2715419886653276160.0000 - 939ms/epoch - 4ms/step\n",
            "Epoch 47/50\n",
            "264/264 - 1s - loss: 2715418787141648384.0000 - 770ms/epoch - 3ms/step\n",
            "Epoch 48/50\n",
            "264/264 - 1s - loss: 2715419062019555328.0000 - 791ms/epoch - 3ms/step\n",
            "Epoch 49/50\n",
            "264/264 - 1s - loss: 2715418787141648384.0000 - 764ms/epoch - 3ms/step\n",
            "Epoch 50/50\n",
            "264/264 - 1s - loss: 2715419886653276160.0000 - 760ms/epoch - 3ms/step\n"
          ]
        },
        {
          "output_type": "execute_result",
          "data": {
            "text/plain": [
              "<keras.src.callbacks.History at 0x7bdacccb3dc0>"
            ]
          },
          "metadata": {},
          "execution_count": 27
        }
      ]
    },
    {
      "cell_type": "markdown",
      "source": [
        "Make Predictions on the Test Data"
      ],
      "metadata": {
        "id": "k2jF5OgQgPc0"
      }
    },
    {
      "cell_type": "code",
      "source": [
        "predictions = model.predict(test_data_reshaped)"
      ],
      "metadata": {
        "colab": {
          "base_uri": "https://localhost:8080/"
        },
        "id": "8oduK-h3gU4m",
        "outputId": "61a0a76b-7de8-4a4e-c472-c4c7c3d7f012"
      },
      "execution_count": 28,
      "outputs": [
        {
          "output_type": "stream",
          "name": "stdout",
          "text": [
            "67/67 [==============================] - 1s 2ms/step\n"
          ]
        }
      ]
    },
    {
      "cell_type": "markdown",
      "source": [
        "Inverse the scaling"
      ],
      "metadata": {
        "id": "VO581N3sgk2c"
      }
    },
    {
      "cell_type": "code",
      "source": [
        "predictions = scaler.inverse_transform(predictions)"
      ],
      "metadata": {
        "id": "xl3ULbqYgtmh"
      },
      "execution_count": 29,
      "outputs": []
    },
    {
      "cell_type": "markdown",
      "source": [
        "Evaluate The Model"
      ],
      "metadata": {
        "id": "PD2ENw8Tg6SB"
      }
    },
    {
      "cell_type": "code",
      "source": [
        "mse = model.evaluate(test_data_reshaped, predictions)\n",
        "print(f'MSE: {mse}')"
      ],
      "metadata": {
        "colab": {
          "base_uri": "https://localhost:8080/"
        },
        "id": "3FtSCVgsg--0",
        "outputId": "7754b704-d5c0-4310-d26c-6a0df3647d5d"
      },
      "execution_count": 30,
      "outputs": [
        {
          "output_type": "stream",
          "name": "stdout",
          "text": [
            "67/67 [==============================] - 1s 2ms/step - loss: nan  \n",
            "MSE: nan\n"
          ]
        }
      ]
    },
    {
      "cell_type": "markdown",
      "source": [
        "Use the Model To Predicte the Future Prices"
      ],
      "metadata": {
        "id": "StHVP_uKhGAb"
      }
    },
    {
      "cell_type": "code",
      "source": [
        "future_days = 30\n",
        "future_data = np.array([df['Close'].iloc[-1]] * future_days).reshape(-1, 1, 1)\n",
        "future_predictions = model.predict(future_data)\n",
        "future_predictions = scaler.inverse_transform(future_predictions)"
      ],
      "metadata": {
        "colab": {
          "base_uri": "https://localhost:8080/"
        },
        "id": "RWdX7zJ6hR5A",
        "outputId": "5a031432-0095-4e5d-88e8-e1f380848adf"
      },
      "execution_count": 31,
      "outputs": [
        {
          "output_type": "stream",
          "name": "stdout",
          "text": [
            "1/1 [==============================] - 0s 40ms/step\n"
          ]
        }
      ]
    },
    {
      "cell_type": "markdown",
      "source": [
        "Plot the results"
      ],
      "metadata": {
        "id": "zGW7CKd5hp8l"
      }
    },
    {
      "cell_type": "code",
      "source": [
        "import matplotlib.pyplot as plt"
      ],
      "metadata": {
        "id": "NSxWe2QGhuVk"
      },
      "execution_count": 32,
      "outputs": []
    },
    {
      "cell_type": "code",
      "source": [
        "plt.plot(df.index, df['Close'])\n",
        "plt.plot(np.arange(len(df), len(df) + future_days), future_predictions)\n",
        "plt.xlabel('Date')\n",
        "plt.ylabel('Price (USD)')\n",
        "plt.title('Dogecoin Price Prediction')\n",
        "plt.show()"
      ],
      "metadata": {
        "colab": {
          "base_uri": "https://localhost:8080/",
          "height": 472
        },
        "id": "eo5DPY9Dhy_e",
        "outputId": "b46a8f0e-0b93-4889-e004-51a4168c6de6"
      },
      "execution_count": 33,
      "outputs": [
        {
          "output_type": "display_data",
          "data": {
            "text/plain": [
              "<Figure size 640x480 with 1 Axes>"
            ],
            "image/png": "[encoded data removed]"
          },
          "metadata": {}
        }
      ]
    },
    {
      "cell_type": "code",
      "source": [
        "\n",
        "model.save('doge_predictor_model.h5')"
      ],
      "metadata": {
        "colab": {
          "base_uri": "https://localhost:8080/"
        },
        "id": "EeKaC3MelJ0y",
        "outputId": "aa4e9cff-df4e-47e6-abd9-f35b5ef320ff"
      },
      "execution_count": 34,
      "outputs": [
        {
          "output_type": "stream",
          "name": "stderr",
          "text": [
            "/usr/local/lib/python3.10/dist-packages/keras/src/engine/training.py:3103: UserWarning: You are saving your model as an HDF5 file via `model.save()`. This file format is considered legacy. We recommend using instead the native Keras format, e.g. `model.save('my_model.keras')`.\n",
            "  saving_api.save_model(\n"
          ]
        }
      ]
    },
    {
      "cell_type": "code",
      "source": [],
      "metadata": {
        "id": "2I5hbisJlSt7"
      },
      "execution_count": null,
      "outputs": []
    }
  ]
}